{
  "nbformat": 4,
  "nbformat_minor": 0,
  "metadata": {
    "colab": {
      "name": "NLP-Week4-Exercise-Shakespeare-Question.ipynb",
      "provenance": []
    },
    "kernelspec": {
      "name": "python3",
      "display_name": "Python 3"
    },
    "accelerator": "GPU"
  },
  "cells": [
    {
      "cell_type": "code",
      "metadata": {
        "id": "BOwsuGQQY9OL",
        "colab_type": "code",
        "colab": {
          "base_uri": "https://localhost:8080/",
          "height": 63
        },
        "outputId": "3493ce3c-0a13-4485-c73a-c5b5ddeb5fd2"
      },
      "source": [
        "from tensorflow.keras.preprocessing.sequence import pad_sequences\n",
        "from tensorflow.keras.layers import Embedding, LSTM, Dense, Dropout, Bidirectional\n",
        "from tensorflow.keras.preprocessing.text import Tokenizer\n",
        "from tensorflow.keras.models import Sequential\n",
        "from tensorflow.keras.optimizers import Adam\n",
        "from tensorflow.keras import regularizers\n",
        "import tensorflow.keras.utils as ku \n",
        "import numpy as np "
      ],
      "execution_count": 1,
      "outputs": [
        {
          "output_type": "display_data",
          "data": {
            "text/html": [
              "<p style=\"color: red;\">\n",
              "The default version of TensorFlow in Colab will soon switch to TensorFlow 2.x.<br>\n",
              "We recommend you <a href=\"https://www.tensorflow.org/guide/migrate\" target=\"_blank\">upgrade</a> now \n",
              "or ensure your notebook will continue to use TensorFlow 1.x via the <code>%tensorflow_version 1.x</code> magic:\n",
              "<a href=\"https://colab.research.google.com/notebooks/tensorflow_version.ipynb\" target=\"_blank\">more info</a>.</p>\n"
            ],
            "text/plain": [
              "<IPython.core.display.HTML object>"
            ]
          },
          "metadata": {
            "tags": []
          }
        }
      ]
    },
    {
      "cell_type": "code",
      "metadata": {
        "colab_type": "code",
        "id": "PRnDnCW-Z7qv",
        "colab": {
          "base_uri": "https://localhost:8080/",
          "height": 204
        },
        "outputId": "a67b5aa3-bc20-4466-93c9-acac9823cc3b"
      },
      "source": [
        "tokenizer = Tokenizer()\n",
        "!wget --no-check-certificate \\\n",
        "    https://storage.googleapis.com/laurencemoroney-blog.appspot.com/sonnets.txt \\\n",
        "    -O /tmp/sonnets.txt\n",
        "data = open('/tmp/sonnets.txt').read()\n",
        "\n",
        "corpus = data.lower().split(\"\\n\")\n",
        "\n",
        "\n",
        "tokenizer.fit_on_texts(corpus)\n",
        "total_words = len(tokenizer.word_index) + 1\n",
        "\n",
        "# create input sequences using list of tokens\n",
        "input_sequences = []\n",
        "for line in corpus:\n",
        "\ttoken_list = tokenizer.texts_to_sequences([line])[0]\n",
        "\tfor i in range(1, len(token_list)):\n",
        "\t\tn_gram_sequence = token_list[:i+1]\n",
        "\t\tinput_sequences.append(n_gram_sequence)\n",
        "\n",
        "\n",
        "# pad sequences \n",
        "max_sequence_len = max([len(x) for x in input_sequences])\n",
        "input_sequences = np.array(pad_sequences(input_sequences, maxlen=max_sequence_len, padding='pre'))\n",
        "\n",
        "# create predictors and label\n",
        "predictors, label = input_sequences[:,:-1],input_sequences[:,-1]\n",
        "\n",
        "label = ku.to_categorical(label, num_classes=total_words)"
      ],
      "execution_count": 2,
      "outputs": [
        {
          "output_type": "stream",
          "text": [
            "--2020-01-12 10:15:08--  https://storage.googleapis.com/laurencemoroney-blog.appspot.com/sonnets.txt\n",
            "Resolving storage.googleapis.com (storage.googleapis.com)... 66.102.1.128, 2a00:1450:400c:c00::80\n",
            "Connecting to storage.googleapis.com (storage.googleapis.com)|66.102.1.128|:443... connected.\n",
            "HTTP request sent, awaiting response... 200 OK\n",
            "Length: 93578 (91K) [text/plain]\n",
            "Saving to: ‘/tmp/sonnets.txt’\n",
            "\n",
            "\r/tmp/sonnets.txt      0%[                    ]       0  --.-KB/s               \r/tmp/sonnets.txt    100%[===================>]  91.38K  --.-KB/s    in 0.001s  \n",
            "\n",
            "2020-01-12 10:15:08 (121 MB/s) - ‘/tmp/sonnets.txt’ saved [93578/93578]\n",
            "\n"
          ],
          "name": "stdout"
        }
      ]
    },
    {
      "cell_type": "code",
      "metadata": {
        "id": "w9vH8Y59ajYL",
        "colab_type": "code",
        "colab": {
          "base_uri": "https://localhost:8080/",
          "height": 649
        },
        "outputId": "bccf6ebd-599b-4d40-edbf-721196b535e8"
      },
      "source": [
        "model = Sequential()\n",
        "model.add(Embedding(total_words, 128, input_length=max_sequence_len - 1))\n",
        "model.add(Bidirectional(LSTM(64, return_sequences=True)))\n",
        "model.add(Dropout(0.2))\n",
        "model.add(Bidirectional(LSTM(32)))\n",
        "model.add(Dense(512, activation='relu', kernel_regularizer=regularizers.l2(0.01)))\n",
        "model.add(Dense(total_words, activation='softmax'))\n",
        "# Pick an optimizer\n",
        "model.compile(loss='categorical_crossentropy', optimizer='adam', metrics=['acc'])\n",
        "print(model.summary())\n"
      ],
      "execution_count": 3,
      "outputs": [
        {
          "output_type": "stream",
          "text": [
            "WARNING:tensorflow:From /usr/local/lib/python3.6/dist-packages/tensorflow_core/python/keras/initializers.py:119: calling RandomUniform.__init__ (from tensorflow.python.ops.init_ops) with dtype is deprecated and will be removed in a future version.\n",
            "Instructions for updating:\n",
            "Call initializer instance with the dtype argument instead of passing it to the constructor\n",
            "WARNING:tensorflow:From /usr/local/lib/python3.6/dist-packages/tensorflow_core/python/ops/resource_variable_ops.py:1630: calling BaseResourceVariable.__init__ (from tensorflow.python.ops.resource_variable_ops) with constraint is deprecated and will be removed in a future version.\n",
            "Instructions for updating:\n",
            "If using Keras pass *_constraint arguments to layers.\n",
            "WARNING:tensorflow:From /usr/local/lib/python3.6/dist-packages/tensorflow_core/python/ops/init_ops.py:97: calling GlorotUniform.__init__ (from tensorflow.python.ops.init_ops) with dtype is deprecated and will be removed in a future version.\n",
            "Instructions for updating:\n",
            "Call initializer instance with the dtype argument instead of passing it to the constructor\n",
            "WARNING:tensorflow:From /usr/local/lib/python3.6/dist-packages/tensorflow_core/python/ops/init_ops.py:97: calling Orthogonal.__init__ (from tensorflow.python.ops.init_ops) with dtype is deprecated and will be removed in a future version.\n",
            "Instructions for updating:\n",
            "Call initializer instance with the dtype argument instead of passing it to the constructor\n",
            "WARNING:tensorflow:From /usr/local/lib/python3.6/dist-packages/tensorflow_core/python/ops/init_ops.py:97: calling Zeros.__init__ (from tensorflow.python.ops.init_ops) with dtype is deprecated and will be removed in a future version.\n",
            "Instructions for updating:\n",
            "Call initializer instance with the dtype argument instead of passing it to the constructor\n",
            "Model: \"sequential\"\n",
            "_________________________________________________________________\n",
            "Layer (type)                 Output Shape              Param #   \n",
            "=================================================================\n",
            "embedding (Embedding)        (None, 10, 128)           411008    \n",
            "_________________________________________________________________\n",
            "bidirectional (Bidirectional (None, 10, 128)           98816     \n",
            "_________________________________________________________________\n",
            "dropout (Dropout)            (None, 10, 128)           0         \n",
            "_________________________________________________________________\n",
            "bidirectional_1 (Bidirection (None, 64)                41216     \n",
            "_________________________________________________________________\n",
            "dense (Dense)                (None, 512)               33280     \n",
            "_________________________________________________________________\n",
            "dense_1 (Dense)              (None, 3211)              1647243   \n",
            "=================================================================\n",
            "Total params: 2,231,563\n",
            "Trainable params: 2,231,563\n",
            "Non-trainable params: 0\n",
            "_________________________________________________________________\n",
            "None\n"
          ],
          "name": "stdout"
        }
      ]
    },
    {
      "cell_type": "code",
      "metadata": {
        "id": "AIg2f1HBxqof",
        "colab_type": "code",
        "colab": {
          "base_uri": "https://localhost:8080/",
          "height": 1000
        },
        "outputId": "d5bb6f09-3018-4e25-fc8d-72591d42e6a9"
      },
      "source": [
        " history = model.fit(predictors, label, epochs=100, verbose=1)"
      ],
      "execution_count": 4,
      "outputs": [
        {
          "output_type": "stream",
          "text": [
            "WARNING:tensorflow:From /usr/local/lib/python3.6/dist-packages/tensorflow_core/python/ops/math_grad.py:1424: where (from tensorflow.python.ops.array_ops) is deprecated and will be removed in a future version.\n",
            "Instructions for updating:\n",
            "Use tf.where in 2.0, which has the same broadcast rule as np.where\n",
            "Train on 15462 samples\n",
            "Epoch 1/100\n",
            "15462/15462 [==============================] - 39s 3ms/sample - loss: 6.9530 - acc: 0.0223\n",
            "Epoch 2/100\n",
            "15462/15462 [==============================] - 36s 2ms/sample - loss: 6.5013 - acc: 0.0235\n",
            "Epoch 3/100\n",
            "15462/15462 [==============================] - 36s 2ms/sample - loss: 6.4266 - acc: 0.0231\n",
            "Epoch 4/100\n",
            "15462/15462 [==============================] - 36s 2ms/sample - loss: 6.3458 - acc: 0.0270\n",
            "Epoch 5/100\n",
            "15462/15462 [==============================] - 36s 2ms/sample - loss: 6.2450 - acc: 0.0306\n",
            "Epoch 6/100\n",
            "15462/15462 [==============================] - 35s 2ms/sample - loss: 6.1531 - acc: 0.0358\n",
            "Epoch 7/100\n",
            "15462/15462 [==============================] - 35s 2ms/sample - loss: 6.0680 - acc: 0.0400\n",
            "Epoch 8/100\n",
            "15462/15462 [==============================] - 35s 2ms/sample - loss: 5.9878 - acc: 0.0404\n",
            "Epoch 9/100\n",
            "15462/15462 [==============================] - 36s 2ms/sample - loss: 5.9059 - acc: 0.0452\n",
            "Epoch 10/100\n",
            "15462/15462 [==============================] - 36s 2ms/sample - loss: 5.8222 - acc: 0.0482\n",
            "Epoch 11/100\n",
            "15462/15462 [==============================] - 36s 2ms/sample - loss: 5.7418 - acc: 0.0504\n",
            "Epoch 12/100\n",
            "15462/15462 [==============================] - 35s 2ms/sample - loss: 5.6602 - acc: 0.0556\n",
            "Epoch 13/100\n",
            "15462/15462 [==============================] - 36s 2ms/sample - loss: 5.5790 - acc: 0.0590\n",
            "Epoch 14/100\n",
            "15462/15462 [==============================] - 35s 2ms/sample - loss: 5.5004 - acc: 0.0654\n",
            "Epoch 15/100\n",
            "15462/15462 [==============================] - 36s 2ms/sample - loss: 5.4226 - acc: 0.0711\n",
            "Epoch 16/100\n",
            "15462/15462 [==============================] - 36s 2ms/sample - loss: 5.3471 - acc: 0.0757\n",
            "Epoch 17/100\n",
            "15462/15462 [==============================] - 35s 2ms/sample - loss: 5.2666 - acc: 0.0823\n",
            "Epoch 18/100\n",
            "15462/15462 [==============================] - 35s 2ms/sample - loss: 5.1937 - acc: 0.0842\n",
            "Epoch 19/100\n",
            "15462/15462 [==============================] - 35s 2ms/sample - loss: 5.1183 - acc: 0.0914\n",
            "Epoch 20/100\n",
            "15462/15462 [==============================] - 35s 2ms/sample - loss: 5.0505 - acc: 0.0944\n",
            "Epoch 21/100\n",
            "15462/15462 [==============================] - 35s 2ms/sample - loss: 4.9739 - acc: 0.1016\n",
            "Epoch 22/100\n",
            "15462/15462 [==============================] - 35s 2ms/sample - loss: 4.9018 - acc: 0.1059\n",
            "Epoch 23/100\n",
            "15462/15462 [==============================] - 35s 2ms/sample - loss: 4.8286 - acc: 0.1132\n",
            "Epoch 24/100\n",
            "15462/15462 [==============================] - 35s 2ms/sample - loss: 4.7544 - acc: 0.1207\n",
            "Epoch 25/100\n",
            "15462/15462 [==============================] - 35s 2ms/sample - loss: 4.6783 - acc: 0.1225\n",
            "Epoch 26/100\n",
            "15462/15462 [==============================] - 35s 2ms/sample - loss: 4.6101 - acc: 0.1335\n",
            "Epoch 27/100\n",
            "15462/15462 [==============================] - 35s 2ms/sample - loss: 4.5348 - acc: 0.1414\n",
            "Epoch 28/100\n",
            "15462/15462 [==============================] - 35s 2ms/sample - loss: 4.4740 - acc: 0.1484\n",
            "Epoch 29/100\n",
            "15462/15462 [==============================] - 35s 2ms/sample - loss: 4.3932 - acc: 0.1562\n",
            "Epoch 30/100\n",
            "15462/15462 [==============================] - 35s 2ms/sample - loss: 4.3329 - acc: 0.1641\n",
            "Epoch 31/100\n",
            "15462/15462 [==============================] - 34s 2ms/sample - loss: 4.2468 - acc: 0.1722\n",
            "Epoch 32/100\n",
            "15462/15462 [==============================] - 34s 2ms/sample - loss: 4.1908 - acc: 0.1815\n",
            "Epoch 33/100\n",
            "15462/15462 [==============================] - 35s 2ms/sample - loss: 4.1145 - acc: 0.1905\n",
            "Epoch 34/100\n",
            "15462/15462 [==============================] - 35s 2ms/sample - loss: 4.0504 - acc: 0.1954\n",
            "Epoch 35/100\n",
            "15462/15462 [==============================] - 35s 2ms/sample - loss: 3.9826 - acc: 0.2062\n",
            "Epoch 36/100\n",
            "15462/15462 [==============================] - 35s 2ms/sample - loss: 3.9182 - acc: 0.2172\n",
            "Epoch 37/100\n",
            "15462/15462 [==============================] - 35s 2ms/sample - loss: 3.8532 - acc: 0.2244\n",
            "Epoch 38/100\n",
            "15462/15462 [==============================] - 34s 2ms/sample - loss: 3.7913 - acc: 0.2361\n",
            "Epoch 39/100\n",
            "15462/15462 [==============================] - 35s 2ms/sample - loss: 3.7214 - acc: 0.2499\n",
            "Epoch 40/100\n",
            "15462/15462 [==============================] - 35s 2ms/sample - loss: 3.6830 - acc: 0.2541\n",
            "Epoch 41/100\n",
            "15462/15462 [==============================] - 35s 2ms/sample - loss: 3.6080 - acc: 0.2709\n",
            "Epoch 42/100\n",
            "15462/15462 [==============================] - 34s 2ms/sample - loss: 3.5598 - acc: 0.2763\n",
            "Epoch 43/100\n",
            "15462/15462 [==============================] - 34s 2ms/sample - loss: 3.5030 - acc: 0.2878\n",
            "Epoch 44/100\n",
            "15462/15462 [==============================] - 35s 2ms/sample - loss: 3.4578 - acc: 0.2982\n",
            "Epoch 45/100\n",
            "15462/15462 [==============================] - 35s 2ms/sample - loss: 3.3940 - acc: 0.3127\n",
            "Epoch 46/100\n",
            "15462/15462 [==============================] - 35s 2ms/sample - loss: 3.3532 - acc: 0.3209\n",
            "Epoch 47/100\n",
            "15462/15462 [==============================] - 34s 2ms/sample - loss: 3.2925 - acc: 0.3318\n",
            "Epoch 48/100\n",
            "15462/15462 [==============================] - 35s 2ms/sample - loss: 3.2442 - acc: 0.3445\n",
            "Epoch 49/100\n",
            "15462/15462 [==============================] - 34s 2ms/sample - loss: 3.2098 - acc: 0.3523\n",
            "Epoch 50/100\n",
            "15462/15462 [==============================] - 35s 2ms/sample - loss: 3.1662 - acc: 0.3586\n",
            "Epoch 51/100\n",
            "15462/15462 [==============================] - 36s 2ms/sample - loss: 3.1066 - acc: 0.3735\n",
            "Epoch 52/100\n",
            "15462/15462 [==============================] - 35s 2ms/sample - loss: 3.0694 - acc: 0.3859\n",
            "Epoch 53/100\n",
            "15462/15462 [==============================] - 35s 2ms/sample - loss: 3.0313 - acc: 0.3849\n",
            "Epoch 54/100\n",
            "15462/15462 [==============================] - 35s 2ms/sample - loss: 2.9952 - acc: 0.3957\n",
            "Epoch 55/100\n",
            "15462/15462 [==============================] - 35s 2ms/sample - loss: 2.9364 - acc: 0.4095\n",
            "Epoch 56/100\n",
            "15462/15462 [==============================] - 35s 2ms/sample - loss: 2.9077 - acc: 0.4159\n",
            "Epoch 57/100\n",
            "15462/15462 [==============================] - 35s 2ms/sample - loss: 2.8712 - acc: 0.4258\n",
            "Epoch 58/100\n",
            "15462/15462 [==============================] - 35s 2ms/sample - loss: 2.8347 - acc: 0.4343\n",
            "Epoch 59/100\n",
            "15462/15462 [==============================] - 35s 2ms/sample - loss: 2.7949 - acc: 0.4426\n",
            "Epoch 60/100\n",
            "15462/15462 [==============================] - 35s 2ms/sample - loss: 2.7523 - acc: 0.4501\n",
            "Epoch 61/100\n",
            "15462/15462 [==============================] - 35s 2ms/sample - loss: 2.7136 - acc: 0.4569\n",
            "Epoch 62/100\n",
            "15462/15462 [==============================] - 35s 2ms/sample - loss: 2.6868 - acc: 0.4646\n",
            "Epoch 63/100\n",
            "15462/15462 [==============================] - 35s 2ms/sample - loss: 2.6431 - acc: 0.4710\n",
            "Epoch 64/100\n",
            "15462/15462 [==============================] - 35s 2ms/sample - loss: 2.6079 - acc: 0.4820\n",
            "Epoch 65/100\n",
            "15462/15462 [==============================] - 35s 2ms/sample - loss: 2.5810 - acc: 0.4895\n",
            "Epoch 66/100\n",
            "15462/15462 [==============================] - 35s 2ms/sample - loss: 2.5601 - acc: 0.4910\n",
            "Epoch 67/100\n",
            "15462/15462 [==============================] - 35s 2ms/sample - loss: 2.5238 - acc: 0.5036\n",
            "Epoch 68/100\n",
            "15462/15462 [==============================] - 35s 2ms/sample - loss: 2.5415 - acc: 0.4954\n",
            "Epoch 69/100\n",
            "15462/15462 [==============================] - 35s 2ms/sample - loss: 2.4434 - acc: 0.5215\n",
            "Epoch 70/100\n",
            "15462/15462 [==============================] - 35s 2ms/sample - loss: 2.4141 - acc: 0.5236\n",
            "Epoch 71/100\n",
            "15462/15462 [==============================] - 35s 2ms/sample - loss: 2.3977 - acc: 0.5292\n",
            "Epoch 72/100\n",
            "15462/15462 [==============================] - 35s 2ms/sample - loss: 2.3798 - acc: 0.5340\n",
            "Epoch 73/100\n",
            "15462/15462 [==============================] - 36s 2ms/sample - loss: 2.3418 - acc: 0.5423\n",
            "Epoch 74/100\n",
            "15462/15462 [==============================] - 35s 2ms/sample - loss: 2.3087 - acc: 0.5511\n",
            "Epoch 75/100\n",
            "15462/15462 [==============================] - 35s 2ms/sample - loss: 2.2810 - acc: 0.5602\n",
            "Epoch 76/100\n",
            "15462/15462 [==============================] - 35s 2ms/sample - loss: 2.2769 - acc: 0.5592\n",
            "Epoch 77/100\n",
            "15462/15462 [==============================] - 35s 2ms/sample - loss: 2.2331 - acc: 0.5700\n",
            "Epoch 78/100\n",
            "15462/15462 [==============================] - 35s 2ms/sample - loss: 2.2011 - acc: 0.5748\n",
            "Epoch 79/100\n",
            "15462/15462 [==============================] - 35s 2ms/sample - loss: 2.1777 - acc: 0.5785\n",
            "Epoch 80/100\n",
            "15462/15462 [==============================] - 35s 2ms/sample - loss: 2.1632 - acc: 0.5831\n",
            "Epoch 81/100\n",
            "15462/15462 [==============================] - 35s 2ms/sample - loss: 2.1443 - acc: 0.5829\n",
            "Epoch 82/100\n",
            "15462/15462 [==============================] - 35s 2ms/sample - loss: 2.1231 - acc: 0.5909\n",
            "Epoch 83/100\n",
            "15462/15462 [==============================] - 36s 2ms/sample - loss: 2.0915 - acc: 0.5997\n",
            "Epoch 84/100\n",
            "15462/15462 [==============================] - 35s 2ms/sample - loss: 2.0648 - acc: 0.6028\n",
            "Epoch 85/100\n",
            "15462/15462 [==============================] - 35s 2ms/sample - loss: 2.0491 - acc: 0.6074\n",
            "Epoch 86/100\n",
            "15462/15462 [==============================] - 35s 2ms/sample - loss: 2.0222 - acc: 0.6132\n",
            "Epoch 87/100\n",
            "15462/15462 [==============================] - 35s 2ms/sample - loss: 2.0177 - acc: 0.6152\n",
            "Epoch 88/100\n",
            "15462/15462 [==============================] - 34s 2ms/sample - loss: 1.9786 - acc: 0.6228\n",
            "Epoch 89/100\n",
            "15462/15462 [==============================] - 34s 2ms/sample - loss: 1.9597 - acc: 0.6309\n",
            "Epoch 90/100\n",
            "15462/15462 [==============================] - 34s 2ms/sample - loss: 1.9437 - acc: 0.6297\n",
            "Epoch 91/100\n",
            "15462/15462 [==============================] - 35s 2ms/sample - loss: 1.9148 - acc: 0.6384\n",
            "Epoch 92/100\n",
            "15462/15462 [==============================] - 34s 2ms/sample - loss: 1.9184 - acc: 0.6374\n",
            "Epoch 93/100\n",
            "15462/15462 [==============================] - 34s 2ms/sample - loss: 1.8905 - acc: 0.6433\n",
            "Epoch 94/100\n",
            "15462/15462 [==============================] - 34s 2ms/sample - loss: 1.8778 - acc: 0.6481\n",
            "Epoch 95/100\n",
            "15462/15462 [==============================] - 34s 2ms/sample - loss: 1.8603 - acc: 0.6489\n",
            "Epoch 96/100\n",
            "15462/15462 [==============================] - 34s 2ms/sample - loss: 1.8243 - acc: 0.6587\n",
            "Epoch 97/100\n",
            "15462/15462 [==============================] - 34s 2ms/sample - loss: 1.8134 - acc: 0.6607\n",
            "Epoch 98/100\n",
            "15462/15462 [==============================] - 34s 2ms/sample - loss: 1.7928 - acc: 0.6638\n",
            "Epoch 99/100\n",
            "15462/15462 [==============================] - 34s 2ms/sample - loss: 1.7801 - acc: 0.6668\n",
            "Epoch 100/100\n",
            "15462/15462 [==============================] - 35s 2ms/sample - loss: 1.7759 - acc: 0.6674\n"
          ],
          "name": "stdout"
        }
      ]
    },
    {
      "cell_type": "code",
      "metadata": {
        "id": "1fXTEO3GJ282",
        "colab_type": "code",
        "colab": {
          "base_uri": "https://localhost:8080/",
          "height": 545
        },
        "outputId": "73e1e035-3aca-42b9-d57e-9177a309031e"
      },
      "source": [
        "import matplotlib.pyplot as plt\n",
        "acc = history.history['acc']\n",
        "loss = history.history['loss']\n",
        "\n",
        "epochs = range(len(acc))\n",
        "\n",
        "plt.plot(epochs, acc, 'b', label='Training accuracy')\n",
        "plt.title('Training accuracy')\n",
        "\n",
        "plt.figure()\n",
        "\n",
        "plt.plot(epochs, loss, 'b', label='Training Loss')\n",
        "plt.title('Training loss')\n",
        "plt.legend()\n",
        "\n",
        "plt.show()"
      ],
      "execution_count": 5,
      "outputs": [
        {
          "output_type": "display_data",
          "data": {
            "image/png": "[encoded data removed]",
            "text/plain": [
              "<Figure size 432x288 with 1 Axes>"
            ]
          },
          "metadata": {
            "tags": []
          }
        },
        {
          "output_type": "display_data",
          "data": {
            "image/png": "[encoded data removed]",
            "text/plain": [
              "<Figure size 432x288 with 1 Axes>"
            ]
          },
          "metadata": {
            "tags": []
          }
        }
      ]
    },
    {
      "cell_type": "code",
      "metadata": {
        "id": "6Vc6PHgxa6Hm",
        "colab_type": "code",
        "colab": {
          "base_uri": "https://localhost:8080/",
          "height": 54
        },
        "outputId": "1d8d19c6-a8d1-49a3-bbb9-21baeabc4c86"
      },
      "source": [
        "seed_text = \"Help me Obi Wan Kenobi, you're my only hope\"\n",
        "next_words = 100\n",
        "  \n",
        "for _ in range(next_words):\n",
        "\ttoken_list = tokenizer.texts_to_sequences([seed_text])[0]\n",
        "\ttoken_list = pad_sequences([token_list], maxlen=max_sequence_len-1, padding='pre')\n",
        "\tpredicted = model.predict_classes(token_list, verbose=0)\n",
        "\toutput_word = \"\"\n",
        "\tfor word, index in tokenizer.word_index.items():\n",
        "\t\tif index == predicted:\n",
        "\t\t\toutput_word = word\n",
        "\t\t\tbreak\n",
        "\tseed_text += \" \" + output_word\n",
        "print(seed_text)"
      ],
      "execution_count": 6,
      "outputs": [
        {
          "output_type": "stream",
          "text": [
            "Help me Obi Wan Kenobi, you're my only hope but these brought to lease forth place thee home who till things till stol'n i love my loss is i is none then have groan doth none say my chest show show slain lie releasing we young live young be come seem ' alone doth live so mend a womb earth can weight of his cruel view seen light seen ride care told dote find within be dote away to show her rare wife end find bearing care another rhyme rehearse ' so had so had none prove ' we flow expire flow allay'd dote allay'd thence date hide on\n"
          ],
          "name": "stdout"
        }
      ]
    },
    {
      "cell_type": "code",
      "metadata": {
        "id": "tCnQ4oH2Rg5x",
        "colab_type": "code",
        "colab": {}
      },
      "source": [
        ""
      ],
      "execution_count": 0,
      "outputs": []
    }
  ]
}