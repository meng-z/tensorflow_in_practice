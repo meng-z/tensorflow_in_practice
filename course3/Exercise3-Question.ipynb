{
  "nbformat": 4,
  "nbformat_minor": 0,
  "metadata": {
    "colab": {
      "name": "NLP Course - Week 3 Exercise Question.ipynb",
      "provenance": []
    },
    "kernelspec": {
      "name": "python3",
      "display_name": "Python 3"
    },
    "accelerator": "GPU"
  },
  "cells": [
    {
      "cell_type": "code",
      "metadata": {
        "id": "hmA6EzkQJ5jt",
        "colab_type": "code",
        "colab": {}
      },
      "source": [
        "import json\n",
        "import tensorflow as tf\n",
        "import csv\n",
        "import random\n",
        "import numpy as np\n",
        "\n",
        "from tensorflow.keras.preprocessing.text import Tokenizer\n",
        "from tensorflow.keras.preprocessing.sequence import pad_sequences\n",
        "from tensorflow.keras.utils import to_categorical\n",
        "from tensorflow.keras import regularizers\n",
        "\n",
        "\n",
        "embedding_dim = 100\n",
        "max_length = 16\n",
        "trunc_type='post'\n",
        "padding_type='post'\n",
        "oov_tok = \"<OOV>\"\n",
        "training_size= 16000 #Your dataset size here. Experiment using smaller values (i.e. 16000), but don't forget to train on at least 160000 to see the best effects\n",
        "test_portion=.1\n",
        "\n",
        "corpus = []\n"
      ],
      "execution_count": 0,
      "outputs": []
    },
    {
      "cell_type": "code",
      "metadata": {
        "id": "bM0l_dORKqE0",
        "colab_type": "code",
        "outputId": "1793b6f6-ab18-41d0-cdb1-38173f5427a0",
        "colab": {
          "base_uri": "https://localhost:8080/",
          "height": 204
        }
      },
      "source": [
        "\n",
        "# Note that I cleaned the Stanford dataset to remove LATIN1 encoding to make it easier for Python CSV reader\n",
        "# You can do that yourself with:\n",
        "# iconv -f LATIN1 -t UTF8 training.1600000.processed.noemoticon.csv -o training_cleaned.csv\n",
        "# I then hosted it on my site to make it easier to use in this notebook\n",
        "\n",
        "!wget --no-check-certificate \\\n",
        "    https://storage.googleapis.com/laurencemoroney-blog.appspot.com/training_cleaned.csv \\\n",
        "    -O /tmp/training_cleaned.csv\n",
        "\n",
        "num_sentences = 0\n",
        "\n",
        "with open(\"/tmp/training_cleaned.csv\") as csvfile:\n",
        "    reader = csv.reader(csvfile, delimiter=',')\n",
        "    for row in reader:\n",
        "      # Your Code here. Create list items where the first item is the text, found in row[5], and the second is the label. Note that the label is a '0' or a '4' in the text. When it's the former, make\n",
        "      # your label to be 0, otherwise 1. Keep a count of the number of sentences in num_sentences\n",
        "        list_item=[]\n",
        "        list_item.append(row[5])\n",
        "        if row[0] == '0':\n",
        "            list_item.append(0)\n",
        "        else:\n",
        "            list_item.append(1)\n",
        "        num_sentences = num_sentences + 1\n",
        "        corpus.append(list_item)"
      ],
      "execution_count": 23,
      "outputs": [
        {
          "output_type": "stream",
          "text": [
            "--2020-01-12 09:15:48--  https://storage.googleapis.com/laurencemoroney-blog.appspot.com/training_cleaned.csv\n",
            "Resolving storage.googleapis.com (storage.googleapis.com)... 108.177.125.128, 2404:6800:4008:c01::80\n",
            "Connecting to storage.googleapis.com (storage.googleapis.com)|108.177.125.128|:443... connected.\n",
            "HTTP request sent, awaiting response... 200 OK\n",
            "Length: 238942690 (228M) [application/octet-stream]\n",
            "Saving to: ‘/tmp/training_cleaned.csv’\n",
            "\n",
            "/tmp/training_clean 100%[===================>] 227.87M   202MB/s    in 1.1s    \n",
            "\n",
            "2020-01-12 09:15:49 (202 MB/s) - ‘/tmp/training_cleaned.csv’ saved [238942690/238942690]\n",
            "\n"
          ],
          "name": "stdout"
        }
      ]
    },
    {
      "cell_type": "code",
      "metadata": {
        "id": "3kxblBUjEUX-",
        "colab_type": "code",
        "outputId": "0e42307e-2adc-4eb8-b927-4549a5d6ac2b",
        "colab": {
          "base_uri": "https://localhost:8080/",
          "height": 68
        }
      },
      "source": [
        "print(num_sentences)\n",
        "print(len(corpus))\n",
        "print(corpus[1])\n",
        "\n",
        "# Expected Output:\n",
        "# 1600000\n",
        "# 1600000\n",
        "# [\"is upset that he can't update his Facebook by texting it... and might cry as a result  School today also. Blah!\", 0]"
      ],
      "execution_count": 24,
      "outputs": [
        {
          "output_type": "stream",
          "text": [
            "1600000\n",
            "1600000\n",
            "[\"is upset that he can't update his Facebook by texting it... and might cry as a result  School today also. Blah!\", 0]\n"
          ],
          "name": "stdout"
        }
      ]
    },
    {
      "cell_type": "code",
      "metadata": {
        "id": "ohOGz24lsNAD",
        "colab_type": "code",
        "colab": {}
      },
      "source": [
        "sentences=[]\n",
        "labels=[]\n",
        "random.shuffle(corpus)\n",
        "for x in range(training_size):\n",
        "    sentences.append(corpus[x][0])\n",
        "    labels.append(corpus[x][1])\n",
        "\n",
        "\n",
        "tokenizer = Tokenizer()\n",
        "tokenizer.fit_on_texts(sentences)\n",
        "\n",
        "word_index = tokenizer.word_index\n",
        "vocab_size=len(word_index)\n",
        "\n",
        "sequences = tokenizer.texts_to_sequences(sentences)\n",
        "padded = pad_sequences(sequences, maxlen=max_length, padding=padding_type, truncating=trunc_type)\n",
        "\n",
        "split = int(test_portion * training_size)\n",
        "\n",
        "test_sequences = padded[:split]\n",
        "training_sequences = padded[split:training_size]\n",
        "test_labels = labels[:split]\n",
        "training_labels = labels[split:training_size]"
      ],
      "execution_count": 0,
      "outputs": []
    },
    {
      "cell_type": "code",
      "metadata": {
        "id": "gIrtRem1En3N",
        "colab_type": "code",
        "outputId": "203f9fad-374f-4a9a-a2bb-d1861929f3ec",
        "colab": {
          "base_uri": "https://localhost:8080/",
          "height": 51
        }
      },
      "source": [
        "print(vocab_size)\n",
        "print(word_index['i'])\n",
        "# Expected Output\n",
        "# 138858\n",
        "# 1"
      ],
      "execution_count": 26,
      "outputs": [
        {
          "output_type": "stream",
          "text": [
            "26707\n",
            "1\n"
          ],
          "name": "stdout"
        }
      ]
    },
    {
      "cell_type": "code",
      "metadata": {
        "id": "C1zdgJkusRh0",
        "colab_type": "code",
        "outputId": "fd68242a-55a8-49a6-8d82-372f8a325471",
        "colab": {
          "base_uri": "https://localhost:8080/",
          "height": 204
        }
      },
      "source": [
        "# Note this is the 100 dimension version of GloVe from Stanford\n",
        "# I unzipped and hosted it on my site to make this notebook easier\n",
        "!wget --no-check-certificate \\\n",
        "    https://storage.googleapis.com/laurencemoroney-blog.appspot.com/glove.6B.100d.txt \\\n",
        "    -O /tmp/glove.6B.100d.txt\n",
        "embeddings_index = {};\n",
        "with open('/tmp/glove.6B.100d.txt') as f:\n",
        "    for line in f:\n",
        "        values = line.split();\n",
        "        word = values[0];\n",
        "        coefs = np.asarray(values[1:], dtype='float32');\n",
        "        embeddings_index[word] = coefs;\n",
        "\n",
        "embeddings_matrix = np.zeros((vocab_size+1, embedding_dim));\n",
        "for word, i in word_index.items():\n",
        "    embedding_vector = embeddings_index.get(word);\n",
        "    if embedding_vector is not None:\n",
        "        embeddings_matrix[i] = embedding_vector;"
      ],
      "execution_count": 27,
      "outputs": [
        {
          "output_type": "stream",
          "text": [
            "--2020-01-12 09:16:00--  https://storage.googleapis.com/laurencemoroney-blog.appspot.com/glove.6B.100d.txt\n",
            "Resolving storage.googleapis.com (storage.googleapis.com)... 108.177.97.128, 2404:6800:4008:c06::80\n",
            "Connecting to storage.googleapis.com (storage.googleapis.com)|108.177.97.128|:443... connected.\n",
            "HTTP request sent, awaiting response... 200 OK\n",
            "Length: 347116733 (331M) [text/plain]\n",
            "Saving to: ‘/tmp/glove.6B.100d.txt’\n",
            "\n",
            "/tmp/glove.6B.100d. 100%[===================>] 331.04M   165MB/s    in 2.0s    \n",
            "\n",
            "2020-01-12 09:16:02 (165 MB/s) - ‘/tmp/glove.6B.100d.txt’ saved [347116733/347116733]\n",
            "\n"
          ],
          "name": "stdout"
        }
      ]
    },
    {
      "cell_type": "code",
      "metadata": {
        "id": "71NLk_lpFLNt",
        "colab_type": "code",
        "outputId": "51a27a72-18a0-43c1-9942-eca5ff051c07",
        "colab": {
          "base_uri": "https://localhost:8080/",
          "height": 34
        }
      },
      "source": [
        "print(len(embeddings_matrix))\n",
        "# Expected Output\n",
        "# 138859"
      ],
      "execution_count": 28,
      "outputs": [
        {
          "output_type": "stream",
          "text": [
            "26708\n"
          ],
          "name": "stdout"
        }
      ]
    },
    {
      "cell_type": "code",
      "metadata": {
        "colab_type": "code",
        "id": "iKKvbuEBOGFz",
        "colab": {
          "base_uri": "https://localhost:8080/",
          "height": 1000
        },
        "outputId": "2754fcb8-4405-4081-9952-ab2fd2a39865"
      },
      "source": [
        "model = tf.keras.Sequential([\n",
        "    tf.keras.layers.Embedding(vocab_size+1, embedding_dim, input_length=max_length, weights=[embeddings_matrix], trainable=False),\n",
        "    # YOUR CODE HERE - experiment with combining different types, such as convolutions and LSTMs\n",
        "    tf.keras.layers.Bidirectional(tf.keras.layers.LSTM(64, return_sequences=True)),\n",
        "    tf.keras.layers.Bidirectional(tf.keras.layers.LSTM(32)),\n",
        "    tf.keras.layers.Dense(64, activation='relu'),\n",
        "    tf.keras.layers.Dense(1, activation='sigmoid')\n",
        "])\n",
        "model.compile(loss='binary_crossentropy', optimizer='adam', metrics=['acc'])\n",
        "model.summary()\n",
        "\n",
        "num_epochs = 50\n",
        "history = model.fit(training_sequences, training_labels, epochs=num_epochs, validation_data=(test_sequences, test_labels), verbose=2)\n",
        "\n",
        "print(\"Training Complete\")\n"
      ],
      "execution_count": 29,
      "outputs": [
        {
          "output_type": "stream",
          "text": [
            "Model: \"sequential_1\"\n",
            "_________________________________________________________________\n",
            "Layer (type)                 Output Shape              Param #   \n",
            "=================================================================\n",
            "embedding_1 (Embedding)      (None, 16, 100)           2670800   \n",
            "_________________________________________________________________\n",
            "bidirectional_2 (Bidirection (None, 16, 128)           84480     \n",
            "_________________________________________________________________\n",
            "bidirectional_3 (Bidirection (None, 64)                41216     \n",
            "_________________________________________________________________\n",
            "dense_2 (Dense)              (None, 64)                4160      \n",
            "_________________________________________________________________\n",
            "dense_3 (Dense)              (None, 1)                 65        \n",
            "=================================================================\n",
            "Total params: 2,800,721\n",
            "Trainable params: 129,921\n",
            "Non-trainable params: 2,670,800\n",
            "_________________________________________________________________\n",
            "Train on 14400 samples, validate on 1600 samples\n",
            "Epoch 1/50\n",
            "14400/14400 - 49s - loss: 0.6075 - acc: 0.6619 - val_loss: 0.5626 - val_acc: 0.7019\n",
            "Epoch 2/50\n",
            "14400/14400 - 47s - loss: 0.5483 - acc: 0.7130 - val_loss: 0.5492 - val_acc: 0.7131\n",
            "Epoch 3/50\n",
            "14400/14400 - 48s - loss: 0.5216 - acc: 0.7397 - val_loss: 0.5349 - val_acc: 0.7287\n",
            "Epoch 4/50\n",
            "14400/14400 - 48s - loss: 0.4965 - acc: 0.7556 - val_loss: 0.5340 - val_acc: 0.7344\n",
            "Epoch 5/50\n",
            "14400/14400 - 47s - loss: 0.4661 - acc: 0.7731 - val_loss: 0.5330 - val_acc: 0.7362\n",
            "Epoch 6/50\n",
            "14400/14400 - 47s - loss: 0.4305 - acc: 0.7983 - val_loss: 0.5662 - val_acc: 0.7325\n",
            "Epoch 7/50\n",
            "14400/14400 - 47s - loss: 0.3908 - acc: 0.8173 - val_loss: 0.5668 - val_acc: 0.7237\n",
            "Epoch 8/50\n",
            "14400/14400 - 47s - loss: 0.3417 - acc: 0.8480 - val_loss: 0.6269 - val_acc: 0.7156\n",
            "Epoch 9/50\n",
            "14400/14400 - 47s - loss: 0.2927 - acc: 0.8726 - val_loss: 0.6798 - val_acc: 0.7369\n",
            "Epoch 10/50\n",
            "14400/14400 - 46s - loss: 0.2424 - acc: 0.8980 - val_loss: 0.7749 - val_acc: 0.7119\n",
            "Epoch 11/50\n",
            "14400/14400 - 47s - loss: 0.1907 - acc: 0.9222 - val_loss: 0.9498 - val_acc: 0.7219\n",
            "Epoch 12/50\n",
            "14400/14400 - 47s - loss: 0.1560 - acc: 0.9382 - val_loss: 1.1001 - val_acc: 0.6969\n",
            "Epoch 13/50\n",
            "14400/14400 - 47s - loss: 0.1285 - acc: 0.9488 - val_loss: 1.1084 - val_acc: 0.6950\n",
            "Epoch 14/50\n",
            "14400/14400 - 47s - loss: 0.0968 - acc: 0.9627 - val_loss: 1.3554 - val_acc: 0.7113\n",
            "Epoch 15/50\n",
            "14400/14400 - 47s - loss: 0.0814 - acc: 0.9683 - val_loss: 1.5107 - val_acc: 0.7031\n",
            "Epoch 16/50\n",
            "14400/14400 - 47s - loss: 0.0687 - acc: 0.9729 - val_loss: 1.4063 - val_acc: 0.7006\n",
            "Epoch 17/50\n",
            "14400/14400 - 47s - loss: 0.0640 - acc: 0.9754 - val_loss: 1.6688 - val_acc: 0.7050\n",
            "Epoch 18/50\n",
            "14400/14400 - 47s - loss: 0.0558 - acc: 0.9792 - val_loss: 1.7000 - val_acc: 0.7056\n",
            "Epoch 19/50\n",
            "14400/14400 - 47s - loss: 0.0578 - acc: 0.9790 - val_loss: 1.7300 - val_acc: 0.7050\n",
            "Epoch 20/50\n",
            "14400/14400 - 47s - loss: 0.0420 - acc: 0.9842 - val_loss: 1.8374 - val_acc: 0.7050\n",
            "Epoch 21/50\n",
            "14400/14400 - 47s - loss: 0.0468 - acc: 0.9817 - val_loss: 1.8748 - val_acc: 0.7013\n",
            "Epoch 22/50\n",
            "14400/14400 - 47s - loss: 0.0424 - acc: 0.9842 - val_loss: 1.7724 - val_acc: 0.7119\n",
            "Epoch 23/50\n",
            "14400/14400 - 48s - loss: 0.0300 - acc: 0.9876 - val_loss: 2.1561 - val_acc: 0.7125\n",
            "Epoch 24/50\n",
            "14400/14400 - 48s - loss: 0.0328 - acc: 0.9872 - val_loss: 2.0126 - val_acc: 0.7138\n",
            "Epoch 25/50\n",
            "14400/14400 - 48s - loss: 0.0410 - acc: 0.9856 - val_loss: 1.9306 - val_acc: 0.7250\n",
            "Epoch 26/50\n",
            "14400/14400 - 48s - loss: 0.0320 - acc: 0.9880 - val_loss: 2.0723 - val_acc: 0.6994\n",
            "Epoch 27/50\n",
            "14400/14400 - 48s - loss: 0.0379 - acc: 0.9850 - val_loss: 2.0256 - val_acc: 0.7194\n",
            "Epoch 28/50\n",
            "14400/14400 - 47s - loss: 0.0310 - acc: 0.9887 - val_loss: 1.9801 - val_acc: 0.7163\n",
            "Epoch 29/50\n",
            "14400/14400 - 47s - loss: 0.0169 - acc: 0.9937 - val_loss: 2.3956 - val_acc: 0.7044\n",
            "Epoch 30/50\n",
            "14400/14400 - 47s - loss: 0.0288 - acc: 0.9883 - val_loss: 2.1337 - val_acc: 0.6963\n",
            "Epoch 31/50\n",
            "14400/14400 - 46s - loss: 0.0320 - acc: 0.9876 - val_loss: 2.1376 - val_acc: 0.6894\n",
            "Epoch 32/50\n",
            "14400/14400 - 46s - loss: 0.0285 - acc: 0.9897 - val_loss: 2.1108 - val_acc: 0.7075\n",
            "Epoch 33/50\n",
            "14400/14400 - 46s - loss: 0.0228 - acc: 0.9910 - val_loss: 2.2144 - val_acc: 0.7038\n",
            "Epoch 34/50\n",
            "14400/14400 - 46s - loss: 0.0195 - acc: 0.9923 - val_loss: 2.2320 - val_acc: 0.7275\n",
            "Epoch 35/50\n",
            "14400/14400 - 46s - loss: 0.0383 - acc: 0.9854 - val_loss: 2.0541 - val_acc: 0.7025\n",
            "Epoch 36/50\n",
            "14400/14400 - 45s - loss: 0.0227 - acc: 0.9912 - val_loss: 2.0556 - val_acc: 0.7081\n",
            "Epoch 37/50\n",
            "14400/14400 - 45s - loss: 0.0166 - acc: 0.9937 - val_loss: 2.2599 - val_acc: 0.7163\n",
            "Epoch 38/50\n",
            "14400/14400 - 45s - loss: 0.0227 - acc: 0.9919 - val_loss: 2.2420 - val_acc: 0.7113\n",
            "Epoch 39/50\n",
            "14400/14400 - 45s - loss: 0.0228 - acc: 0.9910 - val_loss: 2.2988 - val_acc: 0.7119\n",
            "Epoch 40/50\n",
            "14400/14400 - 46s - loss: 0.0239 - acc: 0.9912 - val_loss: 2.2583 - val_acc: 0.7163\n",
            "Epoch 41/50\n",
            "14400/14400 - 47s - loss: 0.0139 - acc: 0.9943 - val_loss: 2.4575 - val_acc: 0.7006\n",
            "Epoch 42/50\n",
            "14400/14400 - 46s - loss: 0.0186 - acc: 0.9936 - val_loss: 2.4110 - val_acc: 0.7013\n",
            "Epoch 43/50\n",
            "14400/14400 - 46s - loss: 0.0284 - acc: 0.9899 - val_loss: 2.2590 - val_acc: 0.7075\n",
            "Epoch 44/50\n",
            "14400/14400 - 45s - loss: 0.0138 - acc: 0.9951 - val_loss: 2.2481 - val_acc: 0.7225\n",
            "Epoch 45/50\n",
            "14400/14400 - 47s - loss: 0.0286 - acc: 0.9901 - val_loss: 2.1762 - val_acc: 0.7088\n",
            "Epoch 46/50\n",
            "14400/14400 - 48s - loss: 0.0146 - acc: 0.9951 - val_loss: 2.3024 - val_acc: 0.7125\n",
            "Epoch 47/50\n",
            "14400/14400 - 48s - loss: 0.0057 - acc: 0.9972 - val_loss: 2.5097 - val_acc: 0.7113\n",
            "Epoch 48/50\n",
            "14400/14400 - 46s - loss: 0.0051 - acc: 0.9973 - val_loss: 2.5781 - val_acc: 0.7063\n",
            "Epoch 49/50\n",
            "14400/14400 - 46s - loss: 0.0109 - acc: 0.9958 - val_loss: 2.6012 - val_acc: 0.6862\n",
            "Epoch 50/50\n",
            "14400/14400 - 46s - loss: 0.0559 - acc: 0.9798 - val_loss: 1.8842 - val_acc: 0.7119\n",
            "Training Complete\n"
          ],
          "name": "stdout"
        }
      ]
    },
    {
      "cell_type": "code",
      "metadata": {
        "id": "qxju4ItJKO8F",
        "colab_type": "code",
        "colab": {
          "base_uri": "https://localhost:8080/",
          "height": 607
        },
        "outputId": "8c2ab088-905e-4805-d21d-fdca31e1a648"
      },
      "source": [
        "import matplotlib.image  as mpimg\n",
        "import matplotlib.pyplot as plt\n",
        "\n",
        "#-----------------------------------------------------------\n",
        "# Retrieve a list of list results on training and test data\n",
        "# sets for each training epoch\n",
        "#-----------------------------------------------------------\n",
        "acc=history.history['acc']\n",
        "val_acc=history.history['val_acc']\n",
        "loss=history.history['loss']\n",
        "val_loss=history.history['val_loss']\n",
        "\n",
        "epochs=range(len(acc)) # Get number of epochs\n",
        "\n",
        "#------------------------------------------------\n",
        "# Plot training and validation accuracy per epoch\n",
        "#------------------------------------------------\n",
        "plt.plot(epochs, acc, 'r')\n",
        "plt.plot(epochs, val_acc, 'b')\n",
        "plt.title('Training and validation accuracy')\n",
        "plt.xlabel(\"Epochs\")\n",
        "plt.ylabel(\"Accuracy\")\n",
        "plt.legend([\"Accuracy\", \"Validation Accuracy\"])\n",
        "\n",
        "plt.figure()\n",
        "\n",
        "#------------------------------------------------\n",
        "# Plot training and validation loss per epoch\n",
        "#------------------------------------------------\n",
        "plt.plot(epochs, loss, 'r')\n",
        "plt.plot(epochs, val_loss, 'b')\n",
        "plt.title('Training and validation loss')\n",
        "plt.xlabel(\"Epochs\")\n",
        "plt.ylabel(\"Loss\")\n",
        "plt.legend([\"Loss\", \"Validation Loss\"])\n",
        "\n",
        "plt.figure()\n",
        "\n",
        "\n",
        "# Expected Output\n",
        "# A chart where the validation loss does not increase sharply!"
      ],
      "execution_count": 30,
      "outputs": [
        {
          "output_type": "execute_result",
          "data": {
            "text/plain": [
              "<Figure size 432x288 with 0 Axes>"
            ]
          },
          "metadata": {
            "tags": []
          },
          "execution_count": 30
        },
        {
          "output_type": "display_data",
          "data": {
            "image/png": "[encoded data removed]",
            "text/plain": [
              "<Figure size 432x288 with 1 Axes>"
            ]
          },
          "metadata": {
            "tags": []
          }
        },
        {
          "output_type": "display_data",
          "data": {
            "image/png": "[encoded data removed]",
            "text/plain": [
              "<Figure size 432x288 with 1 Axes>"
            ]
          },
          "metadata": {
            "tags": []
          }
        },
        {
          "output_type": "display_data",
          "data": {
            "text/plain": [
              "<Figure size 432x288 with 0 Axes>"
            ]
          },
          "metadata": {
            "tags": []
          }
        }
      ]
    },
    {
      "cell_type": "code",
      "metadata": {
        "id": "q6hc4L3BCcZO",
        "colab_type": "code",
        "colab": {}
      },
      "source": [
        ""
      ],
      "execution_count": 0,
      "outputs": []
    }
  ]
}